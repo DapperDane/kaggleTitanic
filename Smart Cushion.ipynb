{
 "cells": [
  {
   "cell_type": "markdown",
   "metadata": {
    "collapsed": true
   },
   "source": [
    "# Data Aquisition"
   ]
  },
  {
   "cell_type": "code",
   "execution_count": 1,
   "metadata": {
    "collapsed": true
   },
   "outputs": [],
   "source": [
    "import pandas as pd\n",
    "import numpy as np\n",
    "from datetime import datetime"
   ]
  },
  {
   "cell_type": "code",
   "execution_count": 2,
   "metadata": {
    "collapsed": true
   },
   "outputs": [],
   "source": [
    "#Loading in the training data\n",
    "df = pd.read_csv(\"dummy data2.csv\", sep=';')\n",
    "df = df.rename(columns={' Sensor5': 'Sensor5'})"
   ]
  },
  {
   "cell_type": "code",
   "execution_count": 3,
   "metadata": {},
   "outputs": [
    {
     "data": {
      "text/plain": [
       "(126, 7)"
      ]
     },
     "execution_count": 3,
     "metadata": {},
     "output_type": "execute_result"
    }
   ],
   "source": [
    "df.shape"
   ]
  },
  {
   "cell_type": "code",
   "execution_count": 4,
   "metadata": {},
   "outputs": [
    {
     "data": {
      "text/html": [
       "<div>\n",
       "<table border=\"1\" class=\"dataframe\">\n",
       "  <thead>\n",
       "    <tr style=\"text-align: right;\">\n",
       "      <th></th>\n",
       "      <th>Time</th>\n",
       "      <th>Sensor1</th>\n",
       "      <th>Sensor2</th>\n",
       "      <th>Sensor3</th>\n",
       "      <th>Sensor4</th>\n",
       "      <th>Sensor5</th>\n",
       "      <th>Label</th>\n",
       "    </tr>\n",
       "  </thead>\n",
       "  <tbody>\n",
       "    <tr>\n",
       "      <th>0</th>\n",
       "      <td>13:20:25</td>\n",
       "      <td>277</td>\n",
       "      <td>434</td>\n",
       "      <td>429</td>\n",
       "      <td>594</td>\n",
       "      <td>455</td>\n",
       "      <td>Normal</td>\n",
       "    </tr>\n",
       "    <tr>\n",
       "      <th>1</th>\n",
       "      <td>13:20:26</td>\n",
       "      <td>285</td>\n",
       "      <td>429</td>\n",
       "      <td>420</td>\n",
       "      <td>592</td>\n",
       "      <td>455</td>\n",
       "      <td>Normal</td>\n",
       "    </tr>\n",
       "    <tr>\n",
       "      <th>2</th>\n",
       "      <td>13:20:27</td>\n",
       "      <td>278</td>\n",
       "      <td>437</td>\n",
       "      <td>434</td>\n",
       "      <td>592</td>\n",
       "      <td>462</td>\n",
       "      <td>Normal</td>\n",
       "    </tr>\n",
       "    <tr>\n",
       "      <th>3</th>\n",
       "      <td>13:20:28</td>\n",
       "      <td>274</td>\n",
       "      <td>439</td>\n",
       "      <td>435</td>\n",
       "      <td>597</td>\n",
       "      <td>462</td>\n",
       "      <td>Normal</td>\n",
       "    </tr>\n",
       "    <tr>\n",
       "      <th>4</th>\n",
       "      <td>13:20:29</td>\n",
       "      <td>276</td>\n",
       "      <td>435</td>\n",
       "      <td>433</td>\n",
       "      <td>601</td>\n",
       "      <td>461</td>\n",
       "      <td>Normal</td>\n",
       "    </tr>\n",
       "  </tbody>\n",
       "</table>\n",
       "</div>"
      ],
      "text/plain": [
       "       Time  Sensor1  Sensor2  Sensor3  Sensor4  Sensor5   Label\n",
       "0  13:20:25      277      434      429      594      455  Normal\n",
       "1  13:20:26      285      429      420      592      455  Normal\n",
       "2  13:20:27      278      437      434      592      462  Normal\n",
       "3  13:20:28      274      439      435      597      462  Normal\n",
       "4  13:20:29      276      435      433      601      461  Normal"
      ]
     },
     "execution_count": 4,
     "metadata": {},
     "output_type": "execute_result"
    }
   ],
   "source": [
    "df.head()\n"
   ]
  },
  {
   "cell_type": "markdown",
   "metadata": {},
   "source": [
    "# Feature extraction"
   ]
  },
  {
   "cell_type": "code",
   "execution_count": 5,
   "metadata": {
    "collapsed": true
   },
   "outputs": [],
   "source": [
    "def slidingWindowTrain(data, windowSize):\n",
    "    #Extract features from the raw data through sliding window\n",
    "    #Stepsize is set to half the windowsize as a default\n",
    "    dfOutput = pd.DataFrame(columns=['Sensor1','Sensor2', 'Sensor3', 'Sensor4', 'Sensor5', 'Label'])\n",
    "    for i in range(len(data)/windowSize):\n",
    "        lowLimit = int(i*0.5*windowSize)\n",
    "        highLimit = int(windowSize+windowSize*i*0.5)\n",
    "        dfTemp = data[lowLimit:highLimit]\n",
    "        \n",
    "        dfTemp = pd.DataFrame({'Sensor1': [dfTemp['Sensor1'].mean()],\n",
    "                               'Sensor2': [dfTemp['Sensor2'].mean()],\n",
    "                               'Sensor3': [dfTemp['Sensor3'].mean()],\n",
    "                               'Sensor4': [dfTemp['Sensor4'].mean()], 'Sensor5': [dfTemp['Sensor5'].mean()],\n",
    "                               'Label': [dfTemp['Label'].mode()[0]]})\n",
    "        \n",
    "        dfOutput = dfOutput.append(dfTemp)\n",
    "        \n",
    "        \n",
    "    return dfOutput\n",
    "        \n",
    "        \n",
    "        \n",
    "    "
   ]
  },
  {
   "cell_type": "code",
   "execution_count": 6,
   "metadata": {},
   "outputs": [
    {
     "data": {
      "text/html": [
       "<div>\n",
       "<table border=\"1\" class=\"dataframe\">\n",
       "  <thead>\n",
       "    <tr style=\"text-align: right;\">\n",
       "      <th></th>\n",
       "      <th>Label</th>\n",
       "      <th>Sensor1</th>\n",
       "      <th>Sensor2</th>\n",
       "      <th>Sensor3</th>\n",
       "      <th>Sensor4</th>\n",
       "      <th>Sensor5</th>\n",
       "    </tr>\n",
       "  </thead>\n",
       "  <tbody>\n",
       "    <tr>\n",
       "      <th>0</th>\n",
       "      <td>Normal</td>\n",
       "      <td>278.0</td>\n",
       "      <td>434.8</td>\n",
       "      <td>430.2</td>\n",
       "      <td>595.2</td>\n",
       "      <td>459.0</td>\n",
       "    </tr>\n",
       "    <tr>\n",
       "      <th>0</th>\n",
       "      <td>Normal</td>\n",
       "      <td>278.6</td>\n",
       "      <td>437.8</td>\n",
       "      <td>435.0</td>\n",
       "      <td>599.4</td>\n",
       "      <td>462.8</td>\n",
       "    </tr>\n",
       "    <tr>\n",
       "      <th>0</th>\n",
       "      <td>Normal</td>\n",
       "      <td>285.2</td>\n",
       "      <td>441.8</td>\n",
       "      <td>438.8</td>\n",
       "      <td>604.2</td>\n",
       "      <td>464.8</td>\n",
       "    </tr>\n",
       "    <tr>\n",
       "      <th>0</th>\n",
       "      <td>Normal</td>\n",
       "      <td>295.0</td>\n",
       "      <td>448.8</td>\n",
       "      <td>449.4</td>\n",
       "      <td>595.2</td>\n",
       "      <td>452.2</td>\n",
       "    </tr>\n",
       "    <tr>\n",
       "      <th>0</th>\n",
       "      <td>Normal</td>\n",
       "      <td>311.8</td>\n",
       "      <td>459.0</td>\n",
       "      <td>464.0</td>\n",
       "      <td>579.2</td>\n",
       "      <td>435.0</td>\n",
       "    </tr>\n",
       "  </tbody>\n",
       "</table>\n",
       "</div>"
      ],
      "text/plain": [
       "    Label  Sensor1  Sensor2  Sensor3  Sensor4  Sensor5\n",
       "0  Normal    278.0    434.8    430.2    595.2    459.0\n",
       "0  Normal    278.6    437.8    435.0    599.4    462.8\n",
       "0  Normal    285.2    441.8    438.8    604.2    464.8\n",
       "0  Normal    295.0    448.8    449.4    595.2    452.2\n",
       "0  Normal    311.8    459.0    464.0    579.2    435.0"
      ]
     },
     "execution_count": 6,
     "metadata": {},
     "output_type": "execute_result"
    }
   ],
   "source": [
    "dfTrain = slidingWindowTrain(df, 5)\n",
    "dfTrain.head()\n"
   ]
  },
  {
   "cell_type": "code",
   "execution_count": 7,
   "metadata": {
    "collapsed": true
   },
   "outputs": [],
   "source": [
    "#Creates target for the machine learning model\n",
    "y = dfTrain['Label']\n",
    "\n",
    "#Excluding the training data\n",
    "X = dfTrain.drop('Label', axis=1)"
   ]
  },
  {
   "cell_type": "markdown",
   "metadata": {},
   "source": [
    "# Building a ML model\n"
   ]
  },
  {
   "cell_type": "code",
   "execution_count": 8,
   "metadata": {},
   "outputs": [],
   "source": [
    "from sklearn.datasets import make_classification\n",
    "from sklearn.ensemble import RandomForestClassifier\n",
    "\n",
    "\n",
    "classifier = RandomForestClassifier(n_estimators = 100)\n",
    "classifier = classifier.fit(X, y)"
   ]
  }
 ],
 "metadata": {
  "kernelspec": {
   "display_name": "Python 2",
   "language": "python",
   "name": "python2"
  },
  "language_info": {
   "codemirror_mode": {
    "name": "ipython",
    "version": 2
   },
   "file_extension": ".py",
   "mimetype": "text/x-python",
   "name": "python",
   "nbconvert_exporter": "python",
   "pygments_lexer": "ipython2",
   "version": "2.7.13"
  }
 },
 "nbformat": 4,
 "nbformat_minor": 2
}
